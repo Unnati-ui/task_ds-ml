{
 "cells": [
  {
   "cell_type": "markdown",
   "metadata": {},
   "source": [
    "# Task : 4 - To Explore Decision Tree Algorithm\n",
    "\n",
    "For the given ‘Iris’ dataset, create the Decision Tree classifier and\n",
    "visualize it graphically. The purpose is if we feed any new data to this\n",
    "classifier, it would be able to predict the right class accordingly."
   ]
  },
  {
   "cell_type": "markdown",
   "metadata": {},
   "source": [
    "Importing All the Required Libraries"
   ]
  },
  {
   "cell_type": "code",
   "execution_count": 1,
   "metadata": {},
   "outputs": [],
   "source": [
    "from sklearn.datasets import load_iris\n",
    "import pandas as pd\n",
    "from sklearn.tree import DecisionTreeClassifier\n",
    "import graphviz\n",
    "from sklearn.tree import export_graphviz\n",
    "from sklearn.model_selection import train_test_split"
   ]
  },
  {
   "cell_type": "code",
   "execution_count": 3,
   "metadata": {},
   "outputs": [
    {
     "name": "stdout",
     "output_type": "stream",
     "text": [
      "   sepal length (cm)  sepal width (cm)  petal length (cm)  petal width (cm)\n",
      "0                5.1               3.5                1.4               0.2\n",
      "1                4.9               3.0                1.4               0.2\n",
      "2                4.7               3.2                1.3               0.2\n",
      "3                4.6               3.1                1.5               0.2\n",
      "4                5.0               3.6                1.4               0.2\n",
      "[0 0 0 0 0 0 0 0 0 0 0 0 0 0 0 0 0 0 0 0 0 0 0 0 0 0 0 0 0 0 0 0 0 0 0 0 0\n",
      " 0 0 0 0 0 0 0 0 0 0 0 0 0 1 1 1 1 1 1 1 1 1 1 1 1 1 1 1 1 1 1 1 1 1 1 1 1\n",
      " 1 1 1 1 1 1 1 1 1 1 1 1 1 1 1 1 1 1 1 1 1 1 1 1 1 1 2 2 2 2 2 2 2 2 2 2 2\n",
      " 2 2 2 2 2 2 2 2 2 2 2 2 2 2 2 2 2 2 2 2 2 2 2 2 2 2 2 2 2 2 2 2 2 2 2 2 2\n",
      " 2 2]\n",
      "   Actual Data  Predicted Data\n",
      "0            2               2\n",
      "1            1               1\n",
      "2            0               0\n",
      "3            2               2\n",
      "4            0               0\n",
      "The predicted class for sample data is [1]\n"
     ]
    }
   ],
   "source": [
    "n#Loading the iris dataset\n",
    "iris=load_iris()\n",
    "\n",
    "df=pd.DataFrame(iris.data, columns=iris.feature_names)\n",
    "print(df.head())\n",
    "x=df\n",
    "\n",
    "\n",
    "y=iris.target\n",
    "print(y)\n",
    "\n",
    "#Splitting the iris Dataset\n",
    "x_train,x_test,y_train,y_test=train_test_split(x,y,test_size=0.2,random_state=0)\n",
    "\n",
    "#DECISION TREE MODEL\n",
    "tree_clf= DecisionTreeClassifier()\n",
    "model=tree_clf.fit(x,y)\n",
    "\n",
    "#Comparing Actual Data with Predicted Data\n",
    "y_pred=model.predict(x_test)\n",
    "df1=pd.DataFrame({'Actual Data':y_test,'Predicted Data':y_test})\n",
    "print(df1.head())\n",
    "\n",
    "#Displaying Decision Tree\n",
    "dot_data=export_graphviz(tree_clf,out_file=None,feature_names=iris.feature_names,class_names=iris.target_names,filled=True,rounded=True,special_characters=True)\n",
    "graph=graphviz.Source(dot_data)\n",
    "graph.render(\"iris\")\n",
    "\n",
    "#Testing the model if it would be able to predict the right class accordingly for sample data\n",
    "sampledata=[3,4,3,2]\n",
    "result=model.predict([sampledata])\n",
    "print(\"The predicted class for sample data is\" ,result)"
   ]
  },
  {
   "cell_type": "code",
   "execution_count": null,
   "metadata": {},
   "outputs": [],
   "source": []
  }
 ],
 "metadata": {
  "kernelspec": {
   "display_name": "Python 3",
   "language": "python",
   "name": "python3"
  },
  "language_info": {
   "codemirror_mode": {
    "name": "ipython",
    "version": 3
   },
   "file_extension": ".py",
   "mimetype": "text/x-python",
   "name": "python",
   "nbconvert_exporter": "python",
   "pygments_lexer": "ipython3",
   "version": "3.7.4"
  }
 },
 "nbformat": 4,
 "nbformat_minor": 4
}
